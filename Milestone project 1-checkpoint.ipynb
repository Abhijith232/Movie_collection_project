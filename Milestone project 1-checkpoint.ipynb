{
 "cells": [
  {
   "cell_type": "markdown",
   "metadata": {},
   "source": [
    "Your task is to create a movie storage application, that will allow users to manage their movie collection\n",
    "and find any movie they want.\n",
    "Here’s the three main features:\n",
    "• First, the application must allow to add new movies to the collection;\n",
    "• The application must allow users to view all the movies in their collection;\n",
    "• The application must also allow users to find any particular movie by any of its attributes\n"
   ]
  },
  {
   "cell_type": "code",
   "execution_count": 17,
   "metadata": {},
   "outputs": [],
   "source": [
    "movies = []\n",
    "matches = []\n",
    "movies.append({'Name': 'sherlock', 'Year': '2009', 'Genre': 'thriller'})\n",
    "movies.append({'Name': 'titanic', 'Year' : '2009', 'Genre': 'drama'})\n",
    "movies.append({'Name': 'Andhadhun', 'Year' : '2018', 'Genre': 'crime'})\n",
    "\n",
    "def find_movie():\n",
    "    choice = input(\"Please type 'name' to find by name/ 'year' to find by year/ 'genre' to find by genre\\nHow do you want to find your movie:\")\n",
    "    if choice == \"name\":\n",
    "        cs = input(\"Please type the name of movie: \")\n",
    "        m = list(filter(lambda movie: movie['Name'] == cs, movies))\n",
    "    elif choice == \"year\":\n",
    "        cs = input(\"Please type the year of movie: \")\n",
    "        m = list(filter(lambda movie: movie['Year'] == cs, movies))\n",
    "    elif choice == \"genre\":\n",
    "        cs = input(\"Please type the genre of movie: \")\n",
    "        m = list(filter(lambda movie: movie['Genre'] == cs, movies))\n",
    "    else:\n",
    "        print(\"Please try again!\")\n",
    "    for mo in m:\n",
    "        print(f\"Movie Name : {mo['Name']}\", f\"  Movie Year : {mo['Year']}\", f\"  Movie Genre : {mo['Genre']}\")\n",
    "\n",
    "def add_movie():\n",
    "    movies.append({'Name': input(\"Please input name:\"), 'Year': input(\"Please input year:\"), 'Genre': input(\"Please input genre:\")})\n",
    "    print(\"The movie you said is been added to your collection: \\n\", movies)\n",
    "    return movies\n",
    "\n",
    "def view_movie():\n",
    "    for movie in movies:\n",
    "        print(f\"Movie Name : {movie['Name']}\", f\"  Movie Year : {movie['Year']}\", f\"  Movie Genre : {movie['Genre']}\")\n",
    "    return movie"
   ]
  },
  {
   "cell_type": "code",
   "execution_count": 18,
   "metadata": {},
   "outputs": [
    {
     "name": "stdout",
     "output_type": "stream",
     "text": [
      "Please type 'find' to find any movie/ 'add' to add new movie/ 'view' to view your collection/ 'end' to end program\n",
      "What would you like to do: find\n",
      "Please type 'name' to find by name/ 'year' to find by year/ 'genre' to find by genre\n",
      "How do you want to find your movie:name\n",
      "Please type the name of movie: sherlock\n",
      "Movie Name : sherlock   Movie Year : 2009   Movie Genre : thriller\n",
      "Please type 'find' to find any movie/ 'add' to add new movie/ 'view' to view your collection/ 'end' to end program\n",
      "What would you like to do: find\n",
      "Please type 'name' to find by name/ 'year' to find by year/ 'genre' to find by genre\n",
      "How do you want to find your movie:year\n",
      "Please type the year of movie: 2009\n",
      "Movie Name : sherlock   Movie Year : 2009   Movie Genre : thriller\n",
      "Movie Name : titanic   Movie Year : 2009   Movie Genre : drama\n",
      "Please type 'find' to find any movie/ 'add' to add new movie/ 'view' to view your collection/ 'end' to end program\n",
      "What would you like to do: end\n",
      "Thank you!\n"
     ]
    }
   ],
   "source": [
    "running = True\n",
    "while running:\n",
    "    inp = input(\"Please type 'find' to find any movie/ 'add' to add new movie/ 'view' to view your collection/ 'end' to end program\\nWhat would you like to do: \")\n",
    "    if inp == \"find\":\n",
    "        find_movie()\n",
    "    elif inp == \"add\":\n",
    "        add_movie()\n",
    "    elif inp == \"view\":\n",
    "        view_movie()\n",
    "    elif inp == \"end\":\n",
    "        print(\"Thank you!\")\n",
    "        running = False \n",
    "    else:\n",
    "        print(\"Thank you!\")\n",
    "        running = False\n",
    "    "
   ]
    },
  {
   "cell_type": "code",
   "execution_count": null,
   "metadata": {},
   "outputs": [],
   "source": []
  }
 ],
 "metadata": {
  "kernelspec": {
   "display_name": "Python 3",
   "language": "python",
   "name": "python3"
  },
  "language_info": {
   "codemirror_mode": {
    "name": "ipython",
    "version": 3
   },
   "file_extension": ".py",
   "mimetype": "text/x-python",
   "name": "python",
   "nbconvert_exporter": "python",
   "pygments_lexer": "ipython3",
   "version": "3.6.5"
  }
 },
 "nbformat": 4,
 "nbformat_minor": 2
}
 
